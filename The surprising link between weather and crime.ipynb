{
 "cells": [
  {
   "cell_type": "markdown",
   "metadata": {},
   "source": [
    "Last week, I came across [this article](http://crime.static-eric.com/) which talked about the link between weather and crime: apparently, higher temperatures are correlated with higher crime rates. This is one of those things that you know could be true and yet don't *sound* true- like the fact that Donald Trump's campaign manager was indicted for certain crimes, and this is true, because he made changes to a document in MS Word from his own username, and the prosecutors - experienced, intelligent criminal lawyers - used 'Track Changes'.\n",
    "\n",
    "On digging a little more, I found a large body of findings and possible explanations for why this might be the case - [this study](https://www.nytimes.com/2013/09/01/opinion/sunday/weather-and-violence.html) reported in the New York Times talked about how extreme weather events always lead to an increase in violence. [This article](http://www.chicagotribune.com/news/data/ct-crime-heat-analysis-htmlstory.html) in the Chicago Tribune also talks about an increase in violent crimes. [This article](https://www.sciencedaily.com/releases/2017/09/170925132948.htm) links violence to all increases in temperature - even warmer winter days. There is a variety of explanations - from [sociological](https://pdfs.semanticscholar.org/4760/63974fc8703e2e4157153e77898bc89d92b5.pdf) to [neuroscientific](https://grist.org/climate-energy/hunting-for-the-neuroscience-of-heat-and-violence/) to simple (higher temperature => more people outside => more opportunities for crime => more crime).\n"
   ]
  },
  {
   "cell_type": "markdown",
   "metadata": {},
   "source": [
    "Whatever be the explanation, the link itself is surprising and intriguing. To explore it further, someone would have to sit down and\n",
    "1. Get data online from whichever police department puts crime data online,\n",
    "2. Get the data for weather for that time period and\n",
    "3. Manipulate that to find a correlation and whether or not it is statistically significant.\n",
    "\n",
    "But who would do that?"
   ]
  },
  {
   "cell_type": "markdown",
   "metadata": {},
   "source": [
    "The answer, dear reader, is me. I would do that. For ten different cities in North America. Over a six-year time period, wherever full data was available.\n",
    "\n",
    "This is the story of that analysis. Think of a cool soundtrack and snappy narration like that scene in *The Social Network* where Zuckerberg hacks into the different Harvard houses. Lose the inherent objectification in that scene, while you're at it.\n",
    "\n",
    "For the record, before you start, I know this correlation doesn't imply causation. I'm not trying to prove higher temperature causes higher crime. I have neither the intention nor the 30-year experience in sociology to do that. I'm just marveling at how damn cool it is that the correlation exists in the first place."
   ]
  }
 ],
 "metadata": {
  "kernelspec": {
   "display_name": "R",
   "language": "R",
   "name": "ir"
  },
  "language_info": {
   "codemirror_mode": "r",
   "file_extension": ".r",
   "mimetype": "text/x-r-source",
   "name": "R",
   "pygments_lexer": "r",
   "version": "3.4.4"
  }
 },
 "nbformat": 4,
 "nbformat_minor": 2
}
